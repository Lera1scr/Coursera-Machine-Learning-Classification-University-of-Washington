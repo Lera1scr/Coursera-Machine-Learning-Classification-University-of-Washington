{
 "cells": [
  {
   "cell_type": "markdown",
   "metadata": {},
   "source": [
    "# Identifying safe loans with decision trees "
   ]
  },
  {
   "cell_type": "code",
   "execution_count": 1,
   "metadata": {},
   "outputs": [],
   "source": [
    "#Libraries Import\n",
    "import json\n",
    "import string\n",
    "import pydotplus\n",
    "import numpy as np\n",
    "import pandas as pd\n",
    "from math import exp\n",
    "from math import sqrt\n",
    "from os import system\n",
    "import matplotlib.pyplot as plt\n",
    "from IPython.display import Image\n",
    "pd.set_option(\"Chained_Assignment\",None)\n",
    "from sklearn.tree import export_graphviz\n",
    "from sklearn.externals.six import StringIO  \n",
    "from sklearn.tree import DecisionTreeClassifier"
   ]
  },
  {
   "cell_type": "code",
   "execution_count": 2,
   "metadata": {},
   "outputs": [],
   "source": [
    "#read dataframe\n",
    "loans = pd.read_csv(\"lending-club-data.csv\",low_memory=False)"
   ]
  },
  {
   "cell_type": "code",
   "execution_count": 3,
   "metadata": {},
   "outputs": [
    {
     "data": {
      "text/html": [
       "<div>\n",
       "<style scoped>\n",
       "    .dataframe tbody tr th:only-of-type {\n",
       "        vertical-align: middle;\n",
       "    }\n",
       "\n",
       "    .dataframe tbody tr th {\n",
       "        vertical-align: top;\n",
       "    }\n",
       "\n",
       "    .dataframe thead th {\n",
       "        text-align: right;\n",
       "    }\n",
       "</style>\n",
       "<table border=\"1\" class=\"dataframe\">\n",
       "  <thead>\n",
       "    <tr style=\"text-align: right;\">\n",
       "      <th>col_0</th>\n",
       "      <th>safe_loans</th>\n",
       "      <th>Percentage</th>\n",
       "    </tr>\n",
       "  </thead>\n",
       "  <tbody>\n",
       "    <tr>\n",
       "      <th>0</th>\n",
       "      <td>-1</td>\n",
       "      <td>18.88</td>\n",
       "    </tr>\n",
       "    <tr>\n",
       "      <th>1</th>\n",
       "      <td>1</td>\n",
       "      <td>81.12</td>\n",
       "    </tr>\n",
       "  </tbody>\n",
       "</table>\n",
       "</div>"
      ],
      "text/plain": [
       "col_0  safe_loans  Percentage\n",
       "0              -1       18.88\n",
       "1               1       81.12"
      ]
     },
     "execution_count": 3,
     "metadata": {},
     "output_type": "execute_result"
    }
   ],
   "source": [
    "#Exploring the target column\n",
    "\n",
    "# safe_loans =  1 => safe\n",
    "# safe_loans = -1 => risky\n",
    "\n",
    "loans['safe_loans'] = loans['bad_loans'].apply(lambda x : +1 if x==0 else -1)\n",
    "data=pd.crosstab(loans[\"safe_loans\"],columns=[\"Percentage\"]).apply(lambda r: (round((r/r.sum())*100,2)), axis=0).reset_index()\n",
    "data"
   ]
  },
  {
   "cell_type": "code",
   "execution_count": 4,
   "metadata": {},
   "outputs": [],
   "source": [
    "#Features for the classification algorithm\n",
    "features = ['grade',                     # grade of the loan\n",
    "            'sub_grade',                 # sub-grade of the loan\n",
    "            'short_emp',                 # one year or less of employment\n",
    "            'emp_length_num',            # number of years of employment\n",
    "            'home_ownership',            # home_ownership status: own, mortgage or rent\n",
    "            'dti',                       # debt to income ratio\n",
    "            'purpose',                   # the purpose of the loan\n",
    "            'term',                      # the term of the loan\n",
    "            'last_delinq_none',          # has borrower had a delinquincy\n",
    "            'last_major_derog_none',     # has borrower had 90 day or worse rating\n",
    "            'revol_util',                # percent of available credit being used\n",
    "            'total_rec_late_fee',        # total late fees received to day\n",
    "           ]\n",
    "\n",
    "target = 'safe_loans'                   # prediction target (y) (+1 means safe, -1 is risky)\n",
    "\n",
    "# Extract the feature columns and target column\n",
    "loans = loans[features + [target]]"
   ]
  },
  {
   "cell_type": "code",
   "execution_count": 5,
   "metadata": {},
   "outputs": [
    {
     "name": "stdout",
     "output_type": "stream",
     "text": [
      "Number of safe loans  : 99457\n",
      "Number of risky loans : 23150\n"
     ]
    }
   ],
   "source": [
    "#Sample data to balance classes\n",
    "\n",
    "safe_loans_raw = loans[loans[target] == +1]\n",
    "risky_loans_raw = loans[loans[target] == -1]\n",
    "print (\"Number of safe loans  : %s\" % len(safe_loans_raw))\n",
    "print (\"Number of risky loans : %s\" % len(risky_loans_raw))"
   ]
  },
  {
   "cell_type": "code",
   "execution_count": 6,
   "metadata": {},
   "outputs": [
    {
     "name": "stdout",
     "output_type": "stream",
     "text": [
      "Percentage of safe loans  : 81.12\n",
      "Percentage of risky loans : 18.88\n"
     ]
    }
   ],
   "source": [
    "print (\"Percentage of safe loans  :\", round((len(safe_loans_raw)/(len(safe_loans_raw)+len(risky_loans_raw)))*100,2))\n",
    "print (\"Percentage of risky loans :\", round((len(risky_loans_raw)/(len(safe_loans_raw)+len(risky_loans_raw)))*100,2))"
   ]
  },
  {
   "cell_type": "code",
   "execution_count": 7,
   "metadata": {},
   "outputs": [],
   "source": [
    "#creating dummy variables\n",
    "col_cat_names=[]\n",
    "[col_cat_names.append(x) for x,y in zip(loans.columns,loans.dtypes) if y==object]\n",
    "\n",
    "for attr in col_cat_names:\n",
    "    loans = loans.merge(pd.get_dummies(loans[attr], prefix=attr), left_index=True, right_index=True)\n",
    "    loans.drop(attr,axis=1,inplace=True)"
   ]
  },
  {
   "cell_type": "code",
   "execution_count": 8,
   "metadata": {},
   "outputs": [],
   "source": [
    "with open('module-5-assignment-1-train-idx.json') as train_data_file:    \n",
    "    train_idx  = json.load(train_data_file)\n",
    "with open('module-5-assignment-1-validation-idx.json') as validation_data_file:    \n",
    "    validation_idx = json.load(validation_data_file)    \n",
    "    \n",
    "train_data = loans.iloc[train_idx]\n",
    "validation_data = loans.iloc[validation_idx]"
   ]
  },
  {
   "cell_type": "code",
   "execution_count": 9,
   "metadata": {},
   "outputs": [],
   "source": [
    "Y = train_data['safe_loans'].values #target variable\n",
    "X = train_data.drop('safe_loans', axis=1).values  #feature variable"
   ]
  },
  {
   "cell_type": "code",
   "execution_count": 10,
   "metadata": {},
   "outputs": [],
   "source": [
    "decision_tree_model = DecisionTreeClassifier(max_depth=6)\n",
    "decision_tree_model = decision_tree_model.fit(X, Y)\n",
    "\n",
    "small_model = DecisionTreeClassifier(max_depth=2)\n",
    "small_model = small_model.fit(X,Y)"
   ]
  },
  {
   "cell_type": "code",
   "execution_count": 11,
   "metadata": {},
   "outputs": [
    {
     "data": {
      "image/png": "[encoded data removed]",
      "text/plain": [
       "<IPython.core.display.Image object>"
      ]
     },
     "execution_count": 11,
     "metadata": {},
     "output_type": "execute_result"
    }
   ],
   "source": [
    "dot_data = StringIO()\n",
    "export_graphviz(small_model, out_file=dot_data,  \n",
    "                filled=True, rounded=True,\n",
    "                special_characters=True)\n",
    "graph = pydotplus.graph_from_dot_data(dot_data.getvalue())  \n",
    "Image(graph.create_png())"
   ]
  },
  {
   "cell_type": "code",
   "execution_count": 12,
   "metadata": {},
   "outputs": [
    {
     "data": {
      "text/html": [
       "<div>\n",
       "<style scoped>\n",
       "    .dataframe tbody tr th:only-of-type {\n",
       "        vertical-align: middle;\n",
       "    }\n",
       "\n",
       "    .dataframe tbody tr th {\n",
       "        vertical-align: top;\n",
       "    }\n",
       "\n",
       "    .dataframe thead th {\n",
       "        text-align: right;\n",
       "    }\n",
       "</style>\n",
       "<table border=\"1\" class=\"dataframe\">\n",
       "  <thead>\n",
       "    <tr style=\"text-align: right;\">\n",
       "      <th></th>\n",
       "      <th>short_emp</th>\n",
       "      <th>emp_length_num</th>\n",
       "      <th>dti</th>\n",
       "      <th>last_delinq_none</th>\n",
       "      <th>last_major_derog_none</th>\n",
       "      <th>revol_util</th>\n",
       "      <th>total_rec_late_fee</th>\n",
       "      <th>safe_loans</th>\n",
       "      <th>grade_A</th>\n",
       "      <th>grade_B</th>\n",
       "      <th>...</th>\n",
       "      <th>purpose_house</th>\n",
       "      <th>purpose_major_purchase</th>\n",
       "      <th>purpose_medical</th>\n",
       "      <th>purpose_moving</th>\n",
       "      <th>purpose_other</th>\n",
       "      <th>purpose_small_business</th>\n",
       "      <th>purpose_vacation</th>\n",
       "      <th>purpose_wedding</th>\n",
       "      <th>term_ 36 months</th>\n",
       "      <th>term_ 60 months</th>\n",
       "    </tr>\n",
       "  </thead>\n",
       "  <tbody>\n",
       "    <tr>\n",
       "      <th>19</th>\n",
       "      <td>0</td>\n",
       "      <td>11</td>\n",
       "      <td>11.18</td>\n",
       "      <td>1</td>\n",
       "      <td>1</td>\n",
       "      <td>82.4</td>\n",
       "      <td>0.0</td>\n",
       "      <td>1</td>\n",
       "      <td>0</td>\n",
       "      <td>1</td>\n",
       "      <td>...</td>\n",
       "      <td>0</td>\n",
       "      <td>0</td>\n",
       "      <td>0</td>\n",
       "      <td>0</td>\n",
       "      <td>0</td>\n",
       "      <td>0</td>\n",
       "      <td>0</td>\n",
       "      <td>0</td>\n",
       "      <td>1</td>\n",
       "      <td>0</td>\n",
       "    </tr>\n",
       "    <tr>\n",
       "      <th>79</th>\n",
       "      <td>0</td>\n",
       "      <td>10</td>\n",
       "      <td>16.85</td>\n",
       "      <td>1</td>\n",
       "      <td>1</td>\n",
       "      <td>96.4</td>\n",
       "      <td>0.0</td>\n",
       "      <td>1</td>\n",
       "      <td>0</td>\n",
       "      <td>0</td>\n",
       "      <td>...</td>\n",
       "      <td>0</td>\n",
       "      <td>0</td>\n",
       "      <td>0</td>\n",
       "      <td>0</td>\n",
       "      <td>0</td>\n",
       "      <td>0</td>\n",
       "      <td>0</td>\n",
       "      <td>0</td>\n",
       "      <td>1</td>\n",
       "      <td>0</td>\n",
       "    </tr>\n",
       "    <tr>\n",
       "      <th>24</th>\n",
       "      <td>0</td>\n",
       "      <td>3</td>\n",
       "      <td>13.97</td>\n",
       "      <td>0</td>\n",
       "      <td>1</td>\n",
       "      <td>59.5</td>\n",
       "      <td>0.0</td>\n",
       "      <td>-1</td>\n",
       "      <td>0</td>\n",
       "      <td>0</td>\n",
       "      <td>...</td>\n",
       "      <td>0</td>\n",
       "      <td>0</td>\n",
       "      <td>0</td>\n",
       "      <td>0</td>\n",
       "      <td>1</td>\n",
       "      <td>0</td>\n",
       "      <td>0</td>\n",
       "      <td>0</td>\n",
       "      <td>0</td>\n",
       "      <td>1</td>\n",
       "    </tr>\n",
       "    <tr>\n",
       "      <th>41</th>\n",
       "      <td>0</td>\n",
       "      <td>11</td>\n",
       "      <td>16.33</td>\n",
       "      <td>1</td>\n",
       "      <td>1</td>\n",
       "      <td>62.1</td>\n",
       "      <td>0.0</td>\n",
       "      <td>-1</td>\n",
       "      <td>1</td>\n",
       "      <td>0</td>\n",
       "      <td>...</td>\n",
       "      <td>0</td>\n",
       "      <td>0</td>\n",
       "      <td>0</td>\n",
       "      <td>0</td>\n",
       "      <td>0</td>\n",
       "      <td>0</td>\n",
       "      <td>0</td>\n",
       "      <td>0</td>\n",
       "      <td>1</td>\n",
       "      <td>0</td>\n",
       "    </tr>\n",
       "  </tbody>\n",
       "</table>\n",
       "<p>4 rows × 68 columns</p>\n",
       "</div>"
      ],
      "text/plain": [
       "    short_emp  emp_length_num    dti  last_delinq_none  last_major_derog_none  \\\n",
       "19          0              11  11.18                 1                      1   \n",
       "79          0              10  16.85                 1                      1   \n",
       "24          0               3  13.97                 0                      1   \n",
       "41          0              11  16.33                 1                      1   \n",
       "\n",
       "    revol_util  total_rec_late_fee  safe_loans  grade_A  grade_B  \\\n",
       "19        82.4                 0.0           1        0        1   \n",
       "79        96.4                 0.0           1        0        0   \n",
       "24        59.5                 0.0          -1        0        0   \n",
       "41        62.1                 0.0          -1        1        0   \n",
       "\n",
       "         ...         purpose_house  purpose_major_purchase  purpose_medical  \\\n",
       "19       ...                     0                       0                0   \n",
       "79       ...                     0                       0                0   \n",
       "24       ...                     0                       0                0   \n",
       "41       ...                     0                       0                0   \n",
       "\n",
       "    purpose_moving  purpose_other  purpose_small_business  purpose_vacation  \\\n",
       "19               0              0                       0                 0   \n",
       "79               0              0                       0                 0   \n",
       "24               0              1                       0                 0   \n",
       "41               0              0                       0                 0   \n",
       "\n",
       "    purpose_wedding  term_ 36 months  term_ 60 months  \n",
       "19                0                1                0  \n",
       "79                0                1                0  \n",
       "24                0                0                1  \n",
       "41                0                1                0  \n",
       "\n",
       "[4 rows x 68 columns]"
      ]
     },
     "execution_count": 12,
     "metadata": {},
     "output_type": "execute_result"
    }
   ],
   "source": [
    "#Making predictions\n",
    "validation_safe_loans = validation_data[validation_data[target] == 1]\n",
    "validation_risky_loans = validation_data[validation_data[target] == -1]\n",
    "\n",
    "sample_validation_data_risky = validation_risky_loans[0:2]\n",
    "sample_validation_data_safe = validation_safe_loans[0:2]\n",
    "\n",
    "sample_validation_data = sample_validation_data_safe.append(sample_validation_data_risky)\n",
    "sample_validation_data\n"
   ]
  },
  {
   "cell_type": "code",
   "execution_count": 13,
   "metadata": {},
   "outputs": [
    {
     "name": "stdout",
     "output_type": "stream",
     "text": [
      "(4,)\n",
      "(4, 67)\n"
     ]
    }
   ],
   "source": [
    "sample_validation_data_Y = sample_validation_data['safe_loans'].values\n",
    "sample_validation_data_X = sample_validation_data.drop('safe_loans', axis=1).values\n",
    "print (sample_validation_data_Y.shape)\n",
    "print (sample_validation_data_X.shape)"
   ]
  },
  {
   "cell_type": "code",
   "execution_count": 14,
   "metadata": {},
   "outputs": [],
   "source": [
    "predictions=decision_tree_model.predict(sample_validation_data_X)"
   ]
  },
  {
   "cell_type": "markdown",
   "metadata": {},
   "source": [
    "# QUIZ Identifying safe loans with decision trees"
   ]
  },
  {
   "cell_type": "markdown",
   "metadata": {},
   "source": [
    "#### Question 1\n",
    "What percentage of the predictions on sample_validation_data did decision_tree_model get correct?"
   ]
  },
  {
   "cell_type": "markdown",
   "metadata": {},
   "source": [
    "__Ans__:"
   ]
  },
  {
   "cell_type": "code",
   "execution_count": 15,
   "metadata": {},
   "outputs": [
    {
     "data": {
      "text/plain": [
       "50.0"
      ]
     },
     "execution_count": 15,
     "metadata": {},
     "output_type": "execute_result"
    }
   ],
   "source": [
    "round(np.asarray(sample_validation_data_Y==predictions,dtype=int).sum()/len(sample_validation_data_Y)*100,2)"
   ]
  },
  {
   "cell_type": "markdown",
   "metadata": {},
   "source": [
    "#### Question 2\n",
    "Which loan has the highest probability of being classified as a safe loan?"
   ]
  },
  {
   "cell_type": "markdown",
   "metadata": {},
   "source": [
    "__Ans__: 4"
   ]
  },
  {
   "cell_type": "code",
   "execution_count": 16,
   "metadata": {},
   "outputs": [
    {
     "data": {
      "text/html": [
       "<div>\n",
       "<style scoped>\n",
       "    .dataframe tbody tr th:only-of-type {\n",
       "        vertical-align: middle;\n",
       "    }\n",
       "\n",
       "    .dataframe tbody tr th {\n",
       "        vertical-align: top;\n",
       "    }\n",
       "\n",
       "    .dataframe thead th {\n",
       "        text-align: right;\n",
       "    }\n",
       "</style>\n",
       "<table border=\"1\" class=\"dataframe\">\n",
       "  <thead>\n",
       "    <tr style=\"text-align: right;\">\n",
       "      <th></th>\n",
       "      <th>0</th>\n",
       "    </tr>\n",
       "  </thead>\n",
       "  <tbody>\n",
       "    <tr>\n",
       "      <th>3</th>\n",
       "      <td>0.792105</td>\n",
       "    </tr>\n",
       "    <tr>\n",
       "      <th>0</th>\n",
       "      <td>0.658435</td>\n",
       "    </tr>\n",
       "    <tr>\n",
       "      <th>1</th>\n",
       "      <td>0.463694</td>\n",
       "    </tr>\n",
       "    <tr>\n",
       "      <th>2</th>\n",
       "      <td>0.352490</td>\n",
       "    </tr>\n",
       "  </tbody>\n",
       "</table>\n",
       "</div>"
      ],
      "text/plain": [
       "          0\n",
       "3  0.792105\n",
       "0  0.658435\n",
       "1  0.463694\n",
       "2  0.352490"
      ]
     },
     "execution_count": 16,
     "metadata": {},
     "output_type": "execute_result"
    }
   ],
   "source": [
    "pd.DataFrame([x[1] for x in decision_tree_model.predict_proba(sample_validation_data_X)]).sort_values(0,ascending=False)"
   ]
  },
  {
   "cell_type": "markdown",
   "metadata": {},
   "source": [
    "#### Question 3\n",
    "Notice that the probability preditions are the exact same for the 2nd and 3rd loans. Why would this happen?"
   ]
  },
  {
   "cell_type": "code",
   "execution_count": 17,
   "metadata": {},
   "outputs": [
    {
     "data": {
      "text/html": [
       "<div>\n",
       "<style scoped>\n",
       "    .dataframe tbody tr th:only-of-type {\n",
       "        vertical-align: middle;\n",
       "    }\n",
       "\n",
       "    .dataframe tbody tr th {\n",
       "        vertical-align: top;\n",
       "    }\n",
       "\n",
       "    .dataframe thead th {\n",
       "        text-align: right;\n",
       "    }\n",
       "</style>\n",
       "<table border=\"1\" class=\"dataframe\">\n",
       "  <thead>\n",
       "    <tr style=\"text-align: right;\">\n",
       "      <th></th>\n",
       "      <th>0</th>\n",
       "    </tr>\n",
       "  </thead>\n",
       "  <tbody>\n",
       "    <tr>\n",
       "      <th>3</th>\n",
       "      <td>0.768799</td>\n",
       "    </tr>\n",
       "    <tr>\n",
       "      <th>0</th>\n",
       "      <td>0.581034</td>\n",
       "    </tr>\n",
       "    <tr>\n",
       "      <th>1</th>\n",
       "      <td>0.407447</td>\n",
       "    </tr>\n",
       "    <tr>\n",
       "      <th>2</th>\n",
       "      <td>0.407447</td>\n",
       "    </tr>\n",
       "  </tbody>\n",
       "</table>\n",
       "</div>"
      ],
      "text/plain": [
       "          0\n",
       "3  0.768799\n",
       "0  0.581034\n",
       "1  0.407447\n",
       "2  0.407447"
      ]
     },
     "execution_count": 17,
     "metadata": {},
     "output_type": "execute_result"
    }
   ],
   "source": [
    "pd.DataFrame([x[1] for x in small_model.predict_proba(sample_validation_data_X)]).sort_values(0,ascending=False)"
   ]
  },
  {
   "cell_type": "markdown",
   "metadata": {},
   "source": [
    "__Ans__: During tree traversal both examples fall into the same leaf node."
   ]
  },
  {
   "cell_type": "markdown",
   "metadata": {},
   "source": [
    "#### Question 4\n",
    "Based on the visualized tree, what prediction would you make for this data point?"
   ]
  },
  {
   "cell_type": "markdown",
   "metadata": {},
   "source": [
    "__Ans__: -1"
   ]
  },
  {
   "cell_type": "code",
   "execution_count": 18,
   "metadata": {},
   "outputs": [
    {
     "data": {
      "text/plain": [
       "-1"
      ]
     },
     "execution_count": 18,
     "metadata": {},
     "output_type": "execute_result"
    }
   ],
   "source": [
    "small_model.predict(sample_validation_data.iloc[1].drop('safe_loans').values.reshape(1, -1))[0]"
   ]
  },
  {
   "cell_type": "markdown",
   "metadata": {},
   "source": [
    "#### Question 5\n",
    "What is the accuracy of decision_tree_model on the validation set, rounded to the nearest .01 "
   ]
  },
  {
   "cell_type": "code",
   "execution_count": 19,
   "metadata": {},
   "outputs": [
    {
     "data": {
      "text/plain": [
       "0.64"
      ]
     },
     "execution_count": 19,
     "metadata": {},
     "output_type": "execute_result"
    }
   ],
   "source": [
    "Y = validation_data['safe_loans'].values #target variable\n",
    "X = validation_data.drop('safe_loans', axis=1).values  #feature variable\n",
    "predictions=decision_tree_model.predict(X)\n",
    "round(np.asarray(Y==predictions,dtype=int).sum()/len(Y),2)"
   ]
  },
  {
   "cell_type": "markdown",
   "metadata": {},
   "source": [
    "#### Question 6\n",
    "How does the performance of big_model on the validation set compare to decision_tree_model on the validation set? Is this a sign of overfitting?"
   ]
  },
  {
   "cell_type": "code",
   "execution_count": 20,
   "metadata": {},
   "outputs": [],
   "source": [
    "Y = train_data['safe_loans'].values #target variable\n",
    "X = train_data.drop('safe_loans', axis=1).values  #feature variable\n",
    "big_model=DecisionTreeClassifier(max_depth=10)\n",
    "big_model = DecisionTreeClassifier(max_depth=10)\n",
    "big_model = big_model.fit(X, Y)"
   ]
  },
  {
   "cell_type": "code",
   "execution_count": 21,
   "metadata": {},
   "outputs": [
    {
     "name": "stdout",
     "output_type": "stream",
     "text": [
      "Accuracy on training data\n",
      "Big Model:  0.66\n",
      "Accuracy on validation data\n",
      "Big Model:  0.63\n",
      "Decision Tree Model:  0.64\n"
     ]
    }
   ],
   "source": [
    "big_model_predictions=big_model.predict(X)\n",
    "print(\"Accuracy on training data\")\n",
    "print(\"Big Model: \",round(np.asarray(Y==big_model_predictions,dtype=int).sum()/len(Y),2))\n",
    "Y = validation_data['safe_loans'].values #target variable\n",
    "X = validation_data.drop('safe_loans', axis=1).values  #feature variable\n",
    "big_model_predictions=big_model.predict(X)\n",
    "decision_tree_model_predictions=decision_tree_model.predict(X)\n",
    "print(\"Accuracy on validation data\")\n",
    "print(\"Big Model: \",round(np.asarray(Y==big_model_predictions,dtype=int).sum()/len(Y),2))\n",
    "print(\"Decision Tree Model: \",round(np.asarray(Y==decision_tree_model_predictions,dtype=int).sum()/len(Y),2))\n"
   ]
  },
  {
   "cell_type": "markdown",
   "metadata": {},
   "source": [
    "__Ans__: big_model has lower accuracy on the validation set than decision_tree_model. This is overfitting."
   ]
  },
  {
   "cell_type": "markdown",
   "metadata": {},
   "source": [
    "#### Question 7\n",
    "Let us assume that each mistake costs money:                         \n",
    "\n",
    "Assume a cost of 10,000 per false negative.                                               \n",
    "Assume a cost of 20,000 per false positive.                                                            \n",
    "What is the total cost of mistakes made by decision_tree_model on validation_data? Please enter your answer as a plain integer, without the dollar sign or the comma separator, e.g. 3002000.\n",
    "\n",
    "__False positives__ are predictions where the model predicts +1 but the true label is -1. Complete the following code block for the number of false positives:\n",
    "__False negatives__ are predictions where the model predicts -1 but the true label is +1. Complete the following code block for the number of false negatives:"
   ]
  },
  {
   "cell_type": "code",
   "execution_count": 22,
   "metadata": {},
   "outputs": [
    {
     "name": "stdout",
     "output_type": "stream",
     "text": [
      "Cost:  50390000\n"
     ]
    }
   ],
   "source": [
    "predictions=decision_tree_model.predict(X)\n",
    "False_positives=np.asarray(((predictions==1)*(Y==-1)),dtype=int).sum()\n",
    "False_negatives=np.asarray(((predictions==-1)*(Y==1)),dtype=int).sum()\n",
    "cost=False_negatives*10000+False_positives*20000\n",
    "print(\"Cost: \",cost)"
   ]
  }
 ],
 "metadata": {
  "kernelspec": {
   "display_name": "Python 3",
   "language": "python",
   "name": "python3"
  },
  "language_info": {
   "codemirror_mode": {
    "name": "ipython",
    "version": 3
   },
   "file_extension": ".py",
   "mimetype": "text/x-python",
   "name": "python",
   "nbconvert_exporter": "python",
   "pygments_lexer": "ipython3",
   "version": "3.6.5"
  }
 },
 "nbformat": 4,
 "nbformat_minor": 2
}
